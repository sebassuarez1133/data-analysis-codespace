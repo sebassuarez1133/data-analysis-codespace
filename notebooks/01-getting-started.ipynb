{
 "cells": [
  {
   "cell_type": "markdown",
   "metadata": {
    "id": "mkZCKT7VCk2M"
   },
   "source": [
    "# Getting started with Python\n",
    "\n",
    "**TIP:** Start by saving notebooks in your drive and use them to take notes during class meetings!\n",
    "\n",
    "**Learning Objectives** \n",
    "- Learn to print outputs\n",
    "- Learn to run/execute code cells\n",
    "- Learn to comment code\n",
    "- Learn to do basic math operations\n",
    "- Learn to create objects\n"
   ]
  },
  {
   "cell_type": "markdown",
   "metadata": {
    "id": "_fiE5U9mXaJm"
   },
   "source": [
    "**Why Python** \n",
    "\n",
    "- Free\n",
    "- Open-source \n",
    "- General purpose language\n",
    "- Large ecosystem of packages\n",
    "    - How good is a smartphone without apps?\n",
    "    - More than 300,000 free packages created by other users!\n",
    "- Welcoming community \n",
    "- Many free ressources available online!\n",
    "- No no point-and-click!\n",
    "- Highly demanded skill\n"
   ]
  },
  {
   "cell_type": "markdown",
   "metadata": {
    "id": "YkYBvekj8AWB"
   },
   "source": [
    "## Printing without a printer...\n",
    "You can use notebooks to run/execute the code inside code cells. \n",
    "\n",
    "The first time you run a code cell, it will take ~15 seconds before you see your output. This is because your browser needs to start a computer on a remote server to execute your code. Not to bad to have a computer freely running for in less than 15 seconds! After that, your code runs instantly.\n",
    "\n",
    "To run a code cell start by selecting the cell you want to run. A \"play\" button will apear and you have two options:\n",
    "- either you press the \"play\" button on the left of the cell.\n",
    "- or you press SHIFT+ENTER.\n",
    "\n",
    "\n",
    "Both commands will run and execute the code in the cell. \n",
    "\n",
    "Let's try!"
   ]
  },
  {
   "cell_type": "code",
   "execution_count": 1,
   "metadata": {
    "id": "8GNA7diq8z-t"
   },
   "outputs": [
    {
     "name": "stdout",
     "output_type": "stream",
     "text": [
      "Greetings!\n"
     ]
    }
   ],
   "source": [
    "# To run this cell press the \"play\" button on the left or SHIFT+ENTER \n",
    "print(\"Greetings!\")"
   ]
  },
  {
   "cell_type": "markdown",
   "metadata": {
    "id": "d1CXvSBfSp_G"
   },
   "source": [
    "Notice that after you execution is complete the the output appears below the code cell.\n",
    "\n",
    "In programming, you usually have a function to print outputs. \n",
    "\n",
    "In python we use the `print()` function print."
   ]
  },
  {
   "cell_type": "code",
   "execution_count": null,
   "metadata": {
    "id": "sFlr9rMFUKDc"
   },
   "outputs": [],
   "source": [
    "print(\"I'm excited to learn python!\")"
   ]
  },
  {
   "cell_type": "markdown",
   "metadata": {
    "id": "M9tcQcqGgtoR"
   },
   "source": [
    "When you want to print characters, also known as strings in python, you need to wrap your text with quotation marks **\"**"
   ]
  },
  {
   "cell_type": "markdown",
   "metadata": {
    "id": "JJT7WfvhjrH1"
   },
   "source": [
    "### Hack Time\n",
    "\n",
    "In the code cell below:\n",
    "- Print hello \n",
    "- Print your first and last name.\n"
   ]
  },
  {
   "cell_type": "code",
   "execution_count": null,
   "metadata": {
    "id": "tdkxojGxklzh"
   },
   "outputs": [],
   "source": [
    "# You code goes in this cell.\n"
   ]
  },
  {
   "cell_type": "markdown",
   "metadata": {
    "id": "XLP5ZamsZ1OP"
   },
   "source": [
    "## Code Execution & Comments\n",
    "\n",
    "When you run the code below, what do you see?"
   ]
  },
  {
   "cell_type": "code",
   "execution_count": null,
   "metadata": {
    "id": "U1an4ibdaJaV"
   },
   "outputs": [],
   "source": [
    "print(\" _____\")\n",
    "# This is a comment that will be ignored when you run this line.\n",
    "print(\"|     |\")\n",
    "# Here's another comment. They are always ignored.\n",
    "print(\"|     |\")\n",
    "# And here's another comment. You can use them to document code.\n",
    "print(\"|_____|\")\n"
   ]
  },
  {
   "cell_type": "markdown",
   "metadata": {
    "id": "qs_seCCkdxmj"
   },
   "source": [
    "Code is executed sequentially. It is similar to a cooking recipe. You apply a set of instructions in order to get a desired output.\n",
    "\n",
    "**Rembember:**\n",
    "- When you are inside a text cell you use markdown syntax. \n",
    "- When you are in a code cell you use python syntax.\n",
    "\n",
    "Notice that a hash/pound symbol (**#**) is used in text cells to define headers but inside python code cells, it is used to make comments!\n",
    "\n",
    "**TIP:** When you write code it is a good practice to document it in order to help you or others that read your code understand what the code does.\n",
    "\n",
    "### Hack Time\n",
    "\n",
    "Run the code below, see what it does, and comment the code!"
   ]
  },
  {
   "cell_type": "code",
   "execution_count": null,
   "metadata": {
    "id": "sEgIkyCxet5A"
   },
   "outputs": [],
   "source": [
    "\n",
    "print(\"Let's do some math!\")\n",
    "\n",
    "print(5 + 7)\n"
   ]
  },
  {
   "cell_type": "markdown",
   "metadata": {
    "id": "YcwnBiyWrCFl"
   },
   "source": [
    "## Arithmetic Operators\n",
    "\n",
    "In its most basic form, Python can be used as a simple calculator that you can us to do mathematical operations. Consider the following arithmetic operators:\n",
    "\n",
    "| Description | Operator |\n",
    "|:-           | :-:      |\n",
    "| Sum         | **+**    |\n",
    "| Difference  | **-**    |\n",
    "| Product     | **\\***   |\n",
    "| Quotient    | **/**    |\n",
    "| Power       | **\\*\\*** |\n",
    "| Modulus     | **%**    |\n"
   ]
  },
  {
   "cell_type": "markdown",
   "metadata": {
    "id": "cLIi4NHMoq0g"
   },
   "source": [
    "### Hack Time "
   ]
  },
  {
   "cell_type": "code",
   "execution_count": null,
   "metadata": {
    "id": "eiFKOoEcobd3"
   },
   "outputs": [],
   "source": [
    "# Divide 7 by 3.\n",
    "\n",
    "# Raise 2 to the 5th power.\n",
    "\n",
    "# Do another mathematical operation.\n",
    "\n",
    "# Describe what you did using a comment\n"
   ]
  },
  {
   "cell_type": "markdown",
   "metadata": {
    "id": "rMx8hCcXm348"
   },
   "source": [
    "## Assignment Operator\n",
    "\n",
    "Objects are containers that allow you to store information such as a value, a sentence, or another piece of code such as a function (more on this later). To define those objects you need to use the assignment operator.\n",
    "\n",
    "| Description | Operator |\n",
    "|:-           | :-:      |\n",
    "| Assign        | **=**    |\n",
    "\n",
    "The assignment operator is the equal symbol **\"=\"** in python.\n"
   ]
  },
  {
   "cell_type": "code",
   "execution_count": null,
   "metadata": {
    "id": "4xp0CxL4trTo"
   },
   "outputs": [],
   "source": [
    "turnout_1 = 55.7\n",
    "turnout_1\n"
   ]
  },
  {
   "cell_type": "markdown",
   "metadata": {
    "id": "z_NXRBkrY15v"
   },
   "source": [
    "Notice that in this case we did not use `print()` function on line 2 and yet the notebook returned a value. Notebooks always returns the last statement.\n",
    "\n",
    "Let's create some more objects with relevant information."
   ]
  },
  {
   "cell_type": "code",
   "execution_count": null,
   "metadata": {
    "id": "9OZBstVJYxdk"
   },
   "outputs": [],
   "source": [
    "election = \"United States presidential election\"\n",
    "year_1 = 2016\n",
    "winner_1 = \"Republican Party\"\n",
    "\n",
    "year_2 = 2020\n",
    "turnout_2 = 66.8 \n",
    "winner_2 = \"Democratic Party\"\n"
   ]
  },
  {
   "cell_type": "markdown",
   "metadata": {
    "id": "8MhW4ObDSish"
   },
   "source": [
    "The code doesn't need to always return something. Sometimes you are simply creating and saving elements in memory for later use.\n",
    "\n",
    "When you need to assign strings to an object you also have to wrap your text with quotation marks. You can use single or double quotes but it is good practice to always use double quotations marks."
   ]
  },
  {
   "cell_type": "code",
   "execution_count": null,
   "metadata": {
    "id": "gaFxqmxaShQ5"
   },
   "outputs": [],
   "source": [
    "print(election, year_1)\n",
    "print(winner_1, turnout_1)\n"
   ]
  },
  {
   "cell_type": "markdown",
   "metadata": {
    "id": "zeJz5jXlm9VH"
   },
   "source": [
    "\n",
    "Before you run the next code cell, try to think what will happen?\n"
   ]
  },
  {
   "cell_type": "code",
   "execution_count": null,
   "metadata": {
    "id": "9TbVi02sUyng"
   },
   "outputs": [],
   "source": [
    "print(Winner_2)"
   ]
  },
  {
   "cell_type": "markdown",
   "metadata": {
    "id": "zE22qBuLVauU"
   },
   "source": [
    "Can you fix this and make it run properly?\n"
   ]
  },
  {
   "cell_type": "markdown",
   "metadata": {
    "id": "WL3eLG-BVzAM"
   },
   "source": [
    "You can combine assignments with artithmetics. For instance:"
   ]
  },
  {
   "cell_type": "code",
   "execution_count": null,
   "metadata": {
    "id": "qDJ1-9qgWB4Z"
   },
   "outputs": [],
   "source": [
    "sum = 3 + 14\n",
    "sum"
   ]
  },
  {
   "cell_type": "code",
   "execution_count": null,
   "metadata": {
    "id": "PLEs0kZKWFhn"
   },
   "outputs": [],
   "source": [
    "difference = 10 - 3\n",
    "difference"
   ]
  },
  {
   "cell_type": "code",
   "execution_count": null,
   "metadata": {
    "id": "XqELR19HWVK8"
   },
   "outputs": [],
   "source": [
    "product = 42 * 2.41\n",
    "product"
   ]
  },
  {
   "cell_type": "markdown",
   "metadata": {
    "id": "tGEnj0-QZWQr"
   },
   "source": [
    "But you can also use simple arithmetics to start answering some interesting questions!\n",
    "\n",
    "By how many percentage points did turnout increase/decrease in the last American Election?"
   ]
  },
  {
   "cell_type": "code",
   "execution_count": null,
   "metadata": {
    "id": "knm2AJDlXRZ0"
   },
   "outputs": [],
   "source": [
    "diff_turnout = turnout_2 - turnout_1"
   ]
  },
  {
   "cell_type": "markdown",
   "metadata": {
    "id": "btlK4Sa_c8qH"
   },
   "source": [
    "What is the percentage change in turnout since the last election?"
   ]
  },
  {
   "cell_type": "code",
   "execution_count": null,
   "metadata": {
    "id": "_PMJJDf9c3nA"
   },
   "outputs": [],
   "source": [
    "pct_change = turnout_2 / turnout_1"
   ]
  },
  {
   "cell_type": "markdown",
   "metadata": {
    "id": "dGL_XfDkdKro"
   },
   "source": [
    "What is the average turnout in the last 2 elections?"
   ]
  },
  {
   "cell_type": "code",
   "execution_count": null,
   "metadata": {
    "id": "beLRUh3TW8Kp"
   },
   "outputs": [],
   "source": [
    "avg_turnout = ( turnout_1 + turnout_2 ) / 2"
   ]
  },
  {
   "cell_type": "markdown",
   "metadata": {
    "id": "RchpCgYetcHz"
   },
   "source": [
    "### Hack Time\n",
    "\n",
    "Let's add the data for the 2012 United States presidential election.\n",
    "\n"
   ]
  },
  {
   "cell_type": "code",
   "execution_count": null,
   "metadata": {
    "id": "ldux1N7-yOxO"
   },
   "outputs": [],
   "source": [
    "# Create 3 new objects with the information for the 2012 US election.\n",
    "year_3 = \n",
    "turnout_3 = \n",
    "winner_3 = \n"
   ]
  },
  {
   "cell_type": "code",
   "execution_count": null,
   "metadata": {
    "id": "4xOFb9PGe11f"
   },
   "outputs": [],
   "source": [
    "# By how many percentage points did turnout increase/decrease in 2016 compared to 2012?\n"
   ]
  },
  {
   "cell_type": "code",
   "execution_count": null,
   "metadata": {
    "id": "4PHBG-ISe4fP"
   },
   "outputs": [],
   "source": [
    "# What is the average turnout over the last 3 elections?\n"
   ]
  },
  {
   "cell_type": "markdown",
   "metadata": {
    "id": "0-7KdXtygGnV"
   },
   "source": [
    "### Naming Guidelines\n",
    "- Python is case sensitive.\n",
    "- Object names need to start with a letter.\n",
    "- Object names can only contain letters, numbers, and underscores.\n",
    "- Object names should be descriptive.\n",
    "\n",
    "*TIP:* Only use lowercase words separated by `_` when naming your objects.\n"
   ]
  }
 ],
 "metadata": {
  "accelerator": "GPU",
  "colab": {
   "collapsed_sections": [],
   "name": "01-getting-started-with-python.ipynb",
   "provenance": [],
   "toc_visible": true
  },
  "kernelspec": {
   "display_name": "Python 3",
   "name": "python3"
  },
  "language_info": {
   "codemirror_mode": {
    "name": "ipython",
    "version": 3
   },
   "file_extension": ".py",
   "mimetype": "text/x-python",
   "name": "python",
   "nbconvert_exporter": "python",
   "pygments_lexer": "ipython3",
   "version": "3.12.1"
  }
 },
 "nbformat": 4,
 "nbformat_minor": 0
}
